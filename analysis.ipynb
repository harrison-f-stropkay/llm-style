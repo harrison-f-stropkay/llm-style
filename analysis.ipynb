{
 "cells": [
  {
   "cell_type": "code",
   "execution_count": null,
   "metadata": {},
   "outputs": [],
   "source": [
    "import random\n",
    "import numpy as np\n",
    "import pandas as pd\n",
    "\n",
    "random.seed(0)\n",
    "np.random.seed(0)\n",
    "pd.set_option(\"display.max_rows\", 300)"
   ]
  },
  {
   "cell_type": "code",
   "execution_count": null,
   "metadata": {},
   "outputs": [],
   "source": [
    "HUMAN = \"human\"\n",
    "\n",
    "GEMINI_10 = \"gemini-1.0-pro\"\n",
    "GEMINI_15 = \"gemini-1.5-pro-latest\"\n",
    "\n",
    "CLAUDE_SONNET = \"claude-3-sonnet-20240229\"\n",
    "CLAUDE_OPUS = \"claude-3-opus-20240229\"\n",
    "\n",
    "GPT_35 = \"gpt-3.5-turbo-0125\"\n",
    "GPT_40 = \"gpt-4-turbo-2024-04-09\"\n",
    "\n",
    "LLMS = [GEMINI_10, GEMINI_15, CLAUDE_SONNET, CLAUDE_OPUS, GPT_35, GPT_40]\n",
    "AUTHORS = LLMS + [HUMAN]\n",
    "\n",
    "REDDIT = \"reddit\"\n",
    "HEWLETT = \"hewlett\"\n",
    "DATASETS = [REDDIT, HEWLETT]"
   ]
  },
  {
   "cell_type": "markdown",
   "metadata": {},
   "source": [
    "# Function words"
   ]
  },
  {
   "cell_type": "code",
   "execution_count": null,
   "metadata": {},
   "outputs": [],
   "source": [
    "with open(\"function_words/oshea.txt\") as f:\n",
    "    lines = f.readlines()\n",
    "    fw_oseah = [line.split()[0] for line in lines]"
   ]
  },
  {
   "cell_type": "markdown",
   "metadata": {},
   "source": [
    "# Z-Scores"
   ]
  },
  {
   "cell_type": "code",
   "execution_count": null,
   "metadata": {},
   "outputs": [],
   "source": [
    "from sklearn.base import BaseEstimator, TransformerMixin\n",
    "from sklearn.preprocessing import StandardScaler\n",
    "from nltk.tokenize import word_tokenize\n",
    "from scipy.spatial.distance import cdist\n",
    "from sklearn.feature_extraction.text import TfidfVectorizer\n",
    "\n",
    "\n",
    "class ZScoreTransformer(BaseEstimator, TransformerMixin):\n",
    "    def __init__(self, fw):\n",
    "        self.fw = fw\n",
    "        self.vectorizer = TfidfVectorizer(\n",
    "            use_idf=False, norm=None, tokenizer=word_tokenize, token_pattern=None\n",
    "        )\n",
    "        self.scaler = StandardScaler()\n",
    "\n",
    "    def fit(self, X, y=None):\n",
    "        # Fit the vectorizer to the corpus\n",
    "        word_counts = self.vectorizer.fit_transform(X).toarray()\n",
    "\n",
    "        # Save the function words and their indicies if they are in the vocabulary\n",
    "        self.used_fw = [word for word in self.fw if word in self.vectorizer.vocabulary_]\n",
    "        self.used_fw_indices = [\n",
    "            self.vectorizer.vocabulary_[word] for word in self.used_fw\n",
    "        ]\n",
    "\n",
    "        # Fit z-score scaler to the relative frequencies\n",
    "        relative_freqs = word_counts / word_counts.sum(axis=1, keepdims=True)\n",
    "        self.scaler.fit(relative_freqs)\n",
    "        return self\n",
    "\n",
    "    def transform(self, X):\n",
    "        # Transform the corpus into word counts\n",
    "        word_counts = self.vectorizer.transform(X).toarray()\n",
    "\n",
    "        # Calculate the relative frequencies\n",
    "        relative_freqs = word_counts / word_counts.sum(axis=1, keepdims=True)\n",
    "\n",
    "        # Calculate the z-scores\n",
    "        z_scores = self.scaler.transform(relative_freqs)[:, self.used_fw_indices]\n",
    "\n",
    "        return z_scores\n",
    "\n",
    "    def get_used_fw(self):\n",
    "        return self.used_fw"
   ]
  },
  {
   "cell_type": "markdown",
   "metadata": {},
   "source": [
    "# Deltas"
   ]
  },
  {
   "cell_type": "code",
   "execution_count": null,
   "metadata": {},
   "outputs": [],
   "source": [
    "def delta(z_scores, variant):\n",
    "    if variant == \"burrows\":\n",
    "        return cdist(z_scores, z_scores, metric=\"cityblock\")\n",
    "    if variant == \"cosine\":\n",
    "        return cdist(z_scores, z_scores, metric=\"cosine\")\n",
    "\n",
    "    raise ValueError(f\"Unknown variant: {variant}\")"
   ]
  },
  {
   "cell_type": "markdown",
   "metadata": {},
   "source": [
    "# Classification"
   ]
  },
  {
   "cell_type": "code",
   "execution_count": null,
   "metadata": {},
   "outputs": [],
   "source": [
    "import random\n",
    "from sklearn.linear_model import LogisticRegression\n",
    "from sklearn.model_selection import GridSearchCV\n",
    "from sklearn.metrics import classification_report, confusion_matrix\n",
    "import matplotlib.pyplot as plt\n",
    "import seaborn as sns\n",
    "from tqdm import tqdm\n",
    "\n",
    "\n",
    "def classify(\n",
    "    df,\n",
    "    function_words,\n",
    "    test_prompts=None,\n",
    "    return_df_coefs=False,\n",
    "    df_test_include_text=False,\n",
    "):\n",
    "    # Train-test split\n",
    "    prompt_ids = df[\"prompt_id\"].unique().tolist()\n",
    "    if not test_prompts:\n",
    "        test_prompts = random.sample(prompt_ids, 2)\n",
    "\n",
    "    df_test = df[df[\"prompt_id\"].isin(test_prompts)].reset_index(drop=True)\n",
    "    df_train = df[~df[\"prompt_id\"].isin(test_prompts)].reset_index(drop=True)\n",
    "\n",
    "    # Use the ZScoreTransformer to get the z-scores\n",
    "    z_scores_transformer = ZScoreTransformer(function_words)\n",
    "    z_scores_train = z_scores_transformer.fit_transform(df_train[\"text\"])\n",
    "    z_scores_test = z_scores_transformer.transform(df_test[\"text\"])\n",
    "\n",
    "    # Set up cross-validation\n",
    "    train_indices_by_prompt = (\n",
    "        df_train.groupby(\"prompt_id\")\n",
    "        .apply(lambda x: x.index, include_groups=False)\n",
    "        .tolist()\n",
    "    )\n",
    "    cv_iterable = []\n",
    "    for _ in range(3):\n",
    "        train_indices_by_prompt = (\n",
    "            train_indices_by_prompt[2:] + train_indices_by_prompt[:2]\n",
    "        )\n",
    "        val_indices = np.concatenate(train_indices_by_prompt[:2])\n",
    "        train_indices = np.concatenate(train_indices_by_prompt[2:])\n",
    "        cv_iterable.append((train_indices, val_indices))\n",
    "\n",
    "    # Train the model using grid search\n",
    "    model = GridSearchCV(\n",
    "        LogisticRegression(max_iter=1000),\n",
    "        param_grid={\n",
    "            \"C\": [0.001, 0.003, 0.01, 0.03, 0.1],\n",
    "            \"solver\": [\"liblinear\", \"lbfgs\"],\n",
    "        },\n",
    "        cv=cv_iterable,\n",
    "        n_jobs=-1,\n",
    "        refit=True,\n",
    "    )\n",
    "\n",
    "    model.fit(z_scores_train, df_train[\"author\"])\n",
    "    y_pred = model.predict(z_scores_test)\n",
    "\n",
    "    df_test[\"author_pred\"] = y_pred\n",
    "    if not df_test_include_text:\n",
    "        df_test = df_test.drop(columns=[\"text\"])\n",
    "\n",
    "    # print the words that were most important for the model\n",
    "    if return_df_coefs:\n",
    "        coefs = model.best_estimator_.coef_.squeeze()\n",
    "        used_fw = z_scores_transformer.get_used_fw()\n",
    "        df_coefs = pd.DataFrame({\"word\": used_fw, \"coef\": coefs})\n",
    "        return df_test, df_coefs\n",
    "\n",
    "    else:\n",
    "        return df_test"
   ]
  },
  {
   "cell_type": "code",
   "execution_count": null,
   "metadata": {},
   "outputs": [],
   "source": [
    "################## TEST ##################\n",
    "\n",
    "\n",
    "# df_human = pd.read_csv(f\"{REDDIT}/responses/{HUMAN}.csv\")\n",
    "# df_human[\"author\"] = HUMAN\n",
    "# df_llm = pd.read_csv(f\"{REDDIT}/responses/{GPT_35}.csv\")\n",
    "# df_llm[\"author\"] = GPT_35\n",
    "# df = pd.concat([df_human, df_llm]).reset_index(drop=True)\n",
    "\n",
    "# df_test, df_coefs = classify(df, fw_oseah, return_df_coefs=True)"
   ]
  },
  {
   "cell_type": "markdown",
   "metadata": {},
   "source": [
    "# Binary classification"
   ]
  },
  {
   "cell_type": "code",
   "execution_count": null,
   "metadata": {},
   "outputs": [],
   "source": [
    "N_TRIALS = 30\n",
    "fw = fw_oseah\n",
    "\n",
    "if False:\n",
    "    binary_classification = []\n",
    "    for dataset in DATASETS:\n",
    "        df_human = pd.read_csv(f\"{dataset}/responses/{HUMAN}.csv\")\n",
    "        df_human[\"author\"] = HUMAN\n",
    "        for llm in LLMS:\n",
    "            df_llm = pd.read_csv(f\"{dataset}/responses/{llm}.csv\")\n",
    "            df_llm[\"author\"] = llm\n",
    "            df = pd.concat([df_human, df_llm], ignore_index=True)\n",
    "            for trial in tqdm(range(N_TRIALS), desc=f\"{dataset} {llm}\"):\n",
    "                df_test, df_coefs = classify(df, fw_oseah, return_df_coefs=True)\n",
    "\n",
    "                binary_classification.append(\n",
    "                    {\n",
    "                        \"dataset\": dataset,\n",
    "                        \"llm\": llm,\n",
    "                        \"trial\": trial,\n",
    "                        \"df_test\": df_test.to_json(orient=\"records\"),\n",
    "                        \"df_coefs\": df_coefs.to_json(orient=\"records\"),\n",
    "                    }\n",
    "                )\n",
    "\n",
    "    df_binary_classification = pd.DataFrame(binary_classification)\n",
    "    df_binary_classification.to_csv(f\"results/binary_classification.csv\", index=False)"
   ]
  },
  {
   "cell_type": "code",
   "execution_count": 45,
   "metadata": {},
   "outputs": [
    {
     "name": "stdout",
     "output_type": "stream",
     "text": [
      "  dataset                       llm  accuracy  family\n",
      "0  reddit    claude-3-opus-20240229  0.837333  claude\n",
      "1  reddit  claude-3-sonnet-20240229  0.853250  claude\n",
      "2  reddit            gemini-1.0-pro  0.940417  gemini\n",
      "3  reddit     gemini-1.5-pro-latest  0.903750  gemini\n",
      "4  reddit        gpt-3.5-turbo-0125  0.907333     gpt\n",
      "5  reddit    gpt-4-turbo-2024-04-09  0.932417     gpt\n"
     ]
    },
    {
     "data": {
      "image/png": "[encoded data removed]",
      "text/plain": [
       "<Figure size 800x600 with 1 Axes>"
      ]
     },
     "metadata": {},
     "output_type": "display_data"
    },
    {
     "name": "stdout",
     "output_type": "stream",
     "text": [
      "   dataset                       llm  accuracy  family\n",
      "0  hewlett    claude-3-opus-20240229  0.861583  claude\n",
      "1  hewlett  claude-3-sonnet-20240229  0.835083  claude\n",
      "2  hewlett            gemini-1.0-pro  0.917167  gemini\n",
      "3  hewlett     gemini-1.5-pro-latest  0.927417  gemini\n",
      "4  hewlett        gpt-3.5-turbo-0125  0.942833     gpt\n",
      "5  hewlett    gpt-4-turbo-2024-04-09  0.949917     gpt\n"
     ]
    },
    {
     "data": {
      "image/png": "[encoded data removed]",
      "text/plain": [
       "<Figure size 800x600 with 1 Axes>"
      ]
     },
     "metadata": {},
     "output_type": "display_data"
    }
   ],
   "source": [
    "from io import StringIO\n",
    "\n",
    "\n",
    "df_bin = pd.read_csv(\"results/binary_classification.csv\")\n",
    "for dataset in DATASETS:\n",
    "    df_bin_dataset = df_bin[df_bin[\"dataset\"] == dataset]\n",
    "    df_acc = []\n",
    "    for _, dataset, llm, _, df_test, _ in df_bin_dataset.itertuples():\n",
    "        df_test = pd.read_json(StringIO(df_test), orient=\"records\")\n",
    "        acc = (df_test[\"author\"] == df_test[\"author_pred\"]).mean()\n",
    "        df_acc.append({\"dataset\": dataset, \"llm\": llm, \"accuracy\": acc})\n",
    "    df_acc = pd.DataFrame(df_acc)\n",
    "    df_acc = df_acc.groupby([\"dataset\", \"llm\"]).mean().reset_index()\n",
    "    df_acc[\"family\"] = df_acc[\"llm\"].apply(lambda x: x.split(\"-\")[0])\n",
    "    print(df_acc)\n",
    "\n",
    "    plt.figure(figsize=(8, 6))\n",
    "    sns.barplot(data=df_acc, x=\"llm\", y=\"accuracy\", hue=\"family\")\n",
    "    plt.title(f\"Accuracy of LLMs on binary classification: {dataset}\")\n",
    "    plt.ylabel(\"Accuracy\")\n",
    "    plt.xlabel(\"LLM\")\n",
    "    plt.xticks(rotation=45)\n",
    "    plt.show()"
   ]
  },
  {
   "cell_type": "markdown",
   "metadata": {},
   "source": [
    "## Most important words"
   ]
  },
  {
   "cell_type": "markdown",
   "metadata": {},
   "source": [
    "For each LLM and dataset, rank the words by their coefficient in the LR model (rankings are averaged over N_TRIALS trials)."
   ]
  },
  {
   "cell_type": "code",
   "execution_count": null,
   "metadata": {},
   "outputs": [],
   "source": [
    "from io import StringIO\n",
    "\n",
    "\n",
    "N = 10\n",
    "fw = fw_oseah\n",
    "\n",
    "df_binary_classification = pd.read_csv(\"results/binary_classification.csv\")\n",
    "\n",
    "df_coefs_list = []\n",
    "for _, dataset, llm, _, _, df_coefs in df_binary_classification.itertuples():\n",
    "    df_coefs = pd.read_json(StringIO(df_coefs))\n",
    "    df_coefs[\"dataset\"] = dataset\n",
    "    df_coefs[\"llm\"] = llm\n",
    "    df_coefs[\"coef_abs\"] = np.abs(df_coefs[\"coef\"])\n",
    "    df_coefs[\"coef_sign\"] = np.sign(df_coefs[\"coef\"])\n",
    "\n",
    "    # Add a row for each word that is in fw but not in the df\n",
    "    fw_used = set(df_coefs[\"word\"].values)\n",
    "    new_rows = []\n",
    "    for word in fw:\n",
    "        if word not in fw_used:\n",
    "            new_rows.append(\n",
    "                {\n",
    "                    \"dataset\": dataset,\n",
    "                    \"llm\": llm,\n",
    "                    \"word\": word,\n",
    "                    \"coef_abs\": 0,\n",
    "                    \"coef_sign\": 0,\n",
    "                }\n",
    "            )\n",
    "\n",
    "    df_new_rows = pd.DataFrame(new_rows)\n",
    "    df_coefs = pd.concat([df_coefs, df_new_rows], ignore_index=True)\n",
    "\n",
    "    # Compute ranks (use average rank for ties)\n",
    "    df_coefs[\"rank\"] = df_coefs.groupby([\"dataset\", \"llm\"])[\"coef_abs\"].rank(\n",
    "        method=\"average\", ascending=False\n",
    "    )\n",
    "    df_coefs_list.append(df_coefs)\n",
    "\n",
    "df_coefs = pd.concat(df_coefs_list, ignore_index=True)\n",
    "df_avg_ranks = df_coefs.groupby([\"dataset\", \"llm\", \"word\"]).mean().reset_index()\n",
    "df_n_smallest = df_avg_ranks.groupby([\"dataset\", \"llm\"]).apply(\n",
    "    lambda x: x.nsmallest(N, \"rank\"), include_groups=False\n",
    ")\n",
    "df_n_smallest"
   ]
  },
  {
   "cell_type": "markdown",
   "metadata": {},
   "source": [
    "## Word frequencies"
   ]
  },
  {
   "cell_type": "markdown",
   "metadata": {},
   "source": [
    "Ratio between the frequency of each word between the LLMs and humans. "
   ]
  },
  {
   "cell_type": "code",
   "execution_count": null,
   "metadata": {},
   "outputs": [],
   "source": [
    "# get the 10 words with the smallest average rank across all datasets and llms\n",
    "N = 10\n",
    "df_coefs_mult = df_coefs.copy()\n",
    "n_most_important = (\n",
    "    df_coefs[[\"word\", \"rank\"]].groupby(\"word\").mean().abs().sort_values(\"rank\").head(10)\n",
    ")\n",
    "n_most_important"
   ]
  },
  {
   "cell_type": "code",
   "execution_count": null,
   "metadata": {},
   "outputs": [],
   "source": [
    "import seaborn as sns\n",
    "import matplotlib.pyplot as plt\n",
    "from matplotlib.colors import LogNorm\n",
    "from matplotlib.ticker import LogLocator\n",
    "\n",
    "\n",
    "pronouns = [\n",
    "    \"he\",\n",
    "    \"him\",\n",
    "    \"his\",\n",
    "    \"himself\",\n",
    "    \"she\",\n",
    "    \"her\",\n",
    "    \"hers\",\n",
    "    \"herself\",\n",
    "    \"they\",\n",
    "    \"them\",\n",
    "    \"their\",\n",
    "    \"theirs\",\n",
    "    \"themselves\",\n",
    "]\n",
    "\n",
    "high_coef_words = n_most_important.index.tolist()\n",
    "\n",
    "for words in [pronouns, high_coef_words]:\n",
    "    # Read the data and compute ratios for each dataset\n",
    "    for dataset in DATASETS:\n",
    "        ratios = []\n",
    "        for word in words:\n",
    "            df_human = pd.read_csv(f\"{dataset}/responses/{HUMAN}.csv\")\n",
    "            human_word_counts = df_human[\"text\"].str.count(word)\n",
    "            human_word_freq = human_word_counts / df_human[\"text\"].apply(\n",
    "                lambda x: len(x.split())\n",
    "            )\n",
    "            human_word_avg_freq = human_word_freq.mean()\n",
    "\n",
    "            for llm in LLMS:\n",
    "                df_llm = pd.read_csv(f\"{dataset}/responses/{llm}.csv\")\n",
    "                llm_word_counts = df_llm[\"text\"].str.count(word)\n",
    "                llm_word_freq = llm_word_counts / df_llm[\"text\"].apply(\n",
    "                    lambda x: len(x.split())\n",
    "                )\n",
    "                llm_word_avg_freq = llm_word_freq.mean()\n",
    "\n",
    "                ratio = (\n",
    "                    llm_word_avg_freq / human_word_avg_freq\n",
    "                    if human_word_avg_freq\n",
    "                    else 100\n",
    "                )\n",
    "                ratios.append({\"word\": word, \"llm\": llm, \"ratio\": ratio})\n",
    "\n",
    "        ratios_df = pd.DataFrame(ratios)\n",
    "        pivot_df = ratios_df.pivot(index=\"word\", columns=\"llm\", values=\"ratio\")\n",
    "        plt.figure(figsize=(8, 6))\n",
    "        sns.heatmap(\n",
    "            pivot_df,\n",
    "            cmap=\"coolwarm\",\n",
    "            annot=True,\n",
    "            fmt=\".2f\",\n",
    "            norm=LogNorm(vmin=1 / 10, vmax=10),\n",
    "        )\n",
    "        plt.title(f\"LLM/Human Word Frequency Ratios: {dataset.capitalize()}\")\n",
    "        plt.xlabel(\"LLM\")\n",
    "        plt.ylabel(\"Word\")\n",
    "        plt.show()"
   ]
  },
  {
   "cell_type": "markdown",
   "metadata": {},
   "source": [
    "# Multiclass classification (all 7 authors)"
   ]
  },
  {
   "cell_type": "code",
   "execution_count": null,
   "metadata": {},
   "outputs": [],
   "source": [
    "n_trials = 1\n",
    "\n",
    "if True:\n",
    "    multiclass_classification = []\n",
    "    for dataset in DATASETS:\n",
    "        dfs = []\n",
    "        for author in AUTHORS:\n",
    "            df = pd.read_csv(f\"{dataset}/responses/{author}.csv\")\n",
    "            df[\"author\"] = author\n",
    "            dfs.append(df)\n",
    "        df = pd.concat(dfs, ignore_index=True)\n",
    "\n",
    "        for trial in tqdm(range(n_trials), desc=f\"Running {dataset} trials\"):\n",
    "            df_test = classify(df, fw_oseah)\n",
    "            multiclass_classification.append(\n",
    "                {\n",
    "                    \"dataset\": dataset,\n",
    "                    \"trial\": trial,\n",
    "                    \"df_test\": df_test.to_json(orient=\"records\"),\n",
    "                }\n",
    "            )\n",
    "    df_multiclass_classification = pd.DataFrame(multiclass_classification)\n",
    "    df_multiclass_classification.to_csv(\n",
    "        \"results/multiclass_classification.csv\", index=False\n",
    "    )"
   ]
  },
  {
   "cell_type": "code",
   "execution_count": null,
   "metadata": {},
   "outputs": [],
   "source": [
    "df_multi = pd.read_csv(\"results/multiclass_classification.csv\")\n",
    "\n",
    "for dataset in DATASETS:\n",
    "    df_multi_cur = df_multi[df_multi[\"dataset\"] == dataset]\n",
    "    cms = []\n",
    "    for df_test in df_multi_cur[\"df_test\"]:\n",
    "        df_test = pd.read_json(StringIO(df_test), orient=\"records\")\n",
    "        cm = confusion_matrix(df_test[\"author\"], df_test[\"author_pred\"])\n",
    "        cms.append(cm)\n",
    "    avg_conf_matrix = np.mean(cms, axis=0)\n",
    "\n",
    "    sns.heatmap(\n",
    "        avg_conf_matrix,\n",
    "        annot=True,\n",
    "        cmap=\"YlGnBu\",\n",
    "        fmt=\".1f\",\n",
    "        cbar_kws={\n",
    "            \"label\": \"Number of Predictions\",\n",
    "            \"boundaries\": np.arange(0, 201, 1),\n",
    "            \"ticks\": np.arange(0, 201, 50),\n",
    "        },\n",
    "        xticklabels=AUTHORS,\n",
    "        yticklabels=AUTHORS,\n",
    "    )\n",
    "    plt.title(f\"Average Confusion Matrix: {dataset.capitalize()} dataset\")\n",
    "    plt.xlabel(\"Predicted Label\")\n",
    "    plt.ylabel(\"True Label\")\n",
    "    plt.show()"
   ]
  },
  {
   "cell_type": "markdown",
   "metadata": {},
   "source": [
    "## Pairwise with human and each LLM"
   ]
  },
  {
   "cell_type": "markdown",
   "metadata": {},
   "source": [
    "# Mis-labels: GPT 3.5, human"
   ]
  },
  {
   "cell_type": "code",
   "execution_count": null,
   "metadata": {},
   "outputs": [],
   "source": [
    "n_trials = 10\n",
    "\n",
    "for dataset in [\"reddit\", \"hewlett\"]:\n",
    "    df_human = pd.read_csv(f\"{dataset}_responses/human.csv\")\n",
    "    df_human[\"author\"] = HUMAN\n",
    "    df_gpt_35 = pd.read_csv(f\"{dataset}_responses/{GPT_35}.csv\")\n",
    "    df_gpt_35[\"author\"] = GPT_35\n",
    "    df = pd.concat([df_human, df_gpt_35], ignore_index=True)\n",
    "\n",
    "    llm_predicted_human = {}\n",
    "    human_predicted_llm = {}\n",
    "\n",
    "    for _ in tqdm(range(n_trials)):\n",
    "        prompts = list(range(8))\n",
    "        random.shuffle(prompts)\n",
    "        test_prompts_list = [prompts[:2], prompts[2:4], prompts[4:6], prompts[6:8]]\n",
    "\n",
    "        for test_prompts in test_prompts_list:\n",
    "            df_test = classify(df, function_words=fw_oseah, test_prompts=test_prompts)\n",
    "\n",
    "            for prompt in test_prompts:\n",
    "                df_human_predicted_llm = df_test[\n",
    "                    (df_test[\"author\"] == HUMAN)\n",
    "                    & (df_test[\"y_pred\"] == GPT_35)\n",
    "                    & (df_test[\"prompt_id\"] == prompt)\n",
    "                ]\n",
    "                if not df_human_predicted_llm.empty:\n",
    "                    llm_predicted_human[prompt] = df_human_predicted_llm.iloc[0][\"text\"]\n",
    "\n",
    "                df_llm_predicted_human = df_test[\n",
    "                    (df_test[\"author\"] == GPT_35)\n",
    "                    & (df_test[\"y_pred\"] == HUMAN)\n",
    "                    & (df_test[\"prompt_id\"] == prompt)\n",
    "                ]\n",
    "                if not df_llm_predicted_human.empty:\n",
    "                    human_predicted_llm[prompt] = df_llm_predicted_human.iloc[0][\"text\"]\n",
    "\n",
    "    print(f\"Dataset: {dataset}\")\n",
    "    for prompt in range(8):\n",
    "        print(f\"Prompt: {prompt}\")\n",
    "        if prompt in llm_predicted_human:\n",
    "            print(f\"Human predicted LLM: {llm_predicted_human[prompt]}\")\n",
    "        else:\n",
    "            print(\"Human predicted LLM: N/A\")\n",
    "        if prompt in human_predicted_llm:\n",
    "            print(f\"LLM predicted human: {human_predicted_llm[prompt]}\")\n",
    "        else:\n",
    "            print(\"LLM predicted human: N/A\")\n",
    "        print()\n",
    "    print(\"\\n\" * 3)"
   ]
  },
  {
   "cell_type": "markdown",
   "metadata": {},
   "source": [
    "## GPT 3.5 Temperatures"
   ]
  },
  {
   "cell_type": "code",
   "execution_count": null,
   "metadata": {},
   "outputs": [],
   "source": [
    "n_trials = 10\n",
    "temps = [f\"{0.1 * i:.1f}\" for i in range(14)]\n",
    "\n",
    "for dataset in [\"reddit\", \"hewlett\"]:\n",
    "    df_word_ranks = []\n",
    "    for temp in tqdm(temps * n_trials):\n",
    "        df_human = pd.read_csv(f\"{dataset}_responses/human.csv\")\n",
    "        df_human[\"author\"] = HUMAN\n",
    "        df_temp = pd.read_csv(f\"{dataset}_responses/{GPT_35}_{temp}.csv\")\n",
    "        df_temp[\"author\"] = GPT_35\n",
    "        df = pd.concat([df_human, df_temp], ignore_index=True)\n",
    "\n",
    "        df_test = classify(df, fw_oseah)\n",
    "        report = classification_report(\n",
    "            df_test[\"author\"], df_test[\"y_pred\"], zero_division=0, output_dict=True\n",
    "        )\n",
    "        df_word_ranks.append(\n",
    "            {\n",
    "                \"dataset\": dataset,\n",
    "                \"temp\": temp,\n",
    "                \"accuracy\": report[\"accuracy\"],\n",
    "            }\n",
    "        )\n",
    "\n",
    "    results_df = pd.DataFrame(df_word_ranks)\n",
    "\n",
    "    plt.figure(figsize=(8, 6))\n",
    "    sns.lineplot(data=results_df, x=\"temp\", y=\"accuracy\")\n",
    "    plt.title(\n",
    "        f\"Human vs. GPT-3.5 Binary Classifier over a range of temperatures: {dataset.capitalize()} dataset\"\n",
    "    )\n",
    "    plt.ylabel(\"Accuracy\")\n",
    "    plt.xlabel(\"Temperature\")\n",
    "    plt.show()"
   ]
  },
  {
   "cell_type": "markdown",
   "metadata": {},
   "source": [
    "# t-SNE"
   ]
  },
  {
   "cell_type": "markdown",
   "metadata": {},
   "source": [
    "## All prompts"
   ]
  },
  {
   "cell_type": "code",
   "execution_count": null,
   "metadata": {},
   "outputs": [],
   "source": [
    "from sklearn.manifold import TSNE\n",
    "import matplotlib.pyplot as plt\n",
    "import seaborn as sns\n",
    "\n",
    "for dataset in [\"reddit\", \"hewlett\"]:\n",
    "    dfs = []\n",
    "    for author in authors:\n",
    "        df = pd.read_csv(f\"{dataset}_responses/{author}.csv\")\n",
    "        df[\"author\"] = author\n",
    "        dfs.append(df)\n",
    "    df = pd.concat(dfs, ignore_index=True)\n",
    "\n",
    "    z_scores_transformer = ZScoreTransformer(function_words=fw_oseah)\n",
    "    z_scores = z_scores_transformer.fit_transform(df[\"text\"])\n",
    "\n",
    "    tsne = TSNE(n_components=2, random_state=42)\n",
    "    X_tsne = tsne.fit_transform(z_scores)\n",
    "\n",
    "    plt.figure(figsize=(8, 6))\n",
    "    sns.scatterplot(x=X_tsne[:, 0], y=X_tsne[:, 1], hue=df[\"author\"])\n",
    "    plt.title(f\"t-SNE Visualization of all prompts: {dataset.capitalize()} dataset\")\n",
    "    plt.xlabel(\"t-SNE Dimension 1\")\n",
    "    plt.ylabel(\"t-SNE Dimension 2\")\n",
    "    plt.show()"
   ]
  },
  {
   "cell_type": "markdown",
   "metadata": {},
   "source": [
    "## Individual prompts"
   ]
  },
  {
   "cell_type": "code",
   "execution_count": null,
   "metadata": {},
   "outputs": [],
   "source": [
    "from sklearn.manifold import TSNE\n",
    "import matplotlib.pyplot as plt\n",
    "from mpl_toolkits.mplot3d import Axes3D\n",
    "import seaborn as sns\n",
    "\n",
    "for dataset in [\"reddit\", \"hewlett\"]:\n",
    "    for prompt_id in range(8):\n",
    "        dfs = []\n",
    "        for author in authors:\n",
    "            df = pd.read_csv(f\"{dataset}_responses/{author}.csv\")\n",
    "            df[\"author\"] = author\n",
    "            dfs.append(df)\n",
    "        df = pd.concat(dfs, ignore_index=True)\n",
    "        df = df[df[\"prompt_id\"] == prompt_id]\n",
    "\n",
    "        z_scores_transformer = ZScoreTransformer(function_words=fw_oseah)\n",
    "        z_scores = z_scores_transformer.fit_transform(df[\"text\"])\n",
    "\n",
    "        tsne = TSNE(n_components=2, random_state=42)\n",
    "        X_tsne = tsne.fit_transform(z_scores)\n",
    "\n",
    "        plt.figure(figsize=(8, 6))\n",
    "        sns.scatterplot(x=X_tsne[:, 0], y=X_tsne[:, 1], hue=df[\"author\"])\n",
    "        plt.title(\n",
    "            f\"t-SNE Visualization of prompt {prompt_id} in the {dataset.capitalize()} dataset\"\n",
    "        )\n",
    "        plt.xlabel(\"t-SNE Dimension 1\")\n",
    "        plt.ylabel(\"t-SNE Dimension 2\")\n",
    "        plt.show()"
   ]
  }
 ],
 "metadata": {
  "kernelspec": {
   "display_name": ".venv",
   "language": "python",
   "name": "python3"
  },
  "language_info": {
   "codemirror_mode": {
    "name": "ipython",
    "version": 3
   },
   "file_extension": ".py",
   "mimetype": "text/x-python",
   "name": "python",
   "nbconvert_exporter": "python",
   "pygments_lexer": "ipython3",
   "version": "3.10.12"
  }
 },
 "nbformat": 4,
 "nbformat_minor": 2
}
