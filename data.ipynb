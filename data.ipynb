{
 "cells": [
  {
   "cell_type": "markdown",
   "metadata": {},
   "source": [
    "# Human Responses"
   ]
  },
  {
   "cell_type": "code",
   "execution_count": 24,
   "metadata": {},
   "outputs": [],
   "source": [
    "import pandas as pd\n",
    "import numpy as np\n",
    "import random\n",
    "\n",
    "np.random.seed(0)\n",
    "random.seed(0)"
   ]
  },
  {
   "cell_type": "code",
   "execution_count": 25,
   "metadata": {},
   "outputs": [],
   "source": [
    "# We use 8 prompts, so both corpuses have the same number of prompts\n",
    "n_prompts = 8\n",
    "# We use a random n_samples_per_prompt samples for each prompt\n",
    "n_samples_per_prompt = 100"
   ]
  },
  {
   "cell_type": "markdown",
   "metadata": {},
   "source": [
    "## Reddit"
   ]
  },
  {
   "cell_type": "code",
   "execution_count": 26,
   "metadata": {},
   "outputs": [],
   "source": [
    "pairs = []\n",
    "for name in [\"train\", \"test\", \"valid\"]:\n",
    "    with open(\"reddit/original_data/\" + name + \".wp_source\") as f_prompts:\n",
    "        prompts = f_prompts.readlines()\n",
    "    with open(\"reddit/original_data/\" + name + \".wp_target\") as f_responses:\n",
    "        texts = f_responses.readlines()\n",
    "    assert len(prompts) == len(texts)\n",
    "    pairs.extend(list(zip(prompts, texts)))\n",
    "df_reddit = pd.DataFrame(pairs, columns=[\"prompt\", \"text\"])\n",
    "df_reddit = df_reddit.drop_duplicates(subset=[\"text\"])\n",
    "df_reddit = df_reddit[~df_reddit[\"prompt\"].str.contains(\"hitler\", case=False)]\n",
    "df_reddit = df_reddit[\n",
    "    df_reddit[\"prompt\"].isin(df_reddit[\"prompt\"].value_counts().index[:n_prompts])\n",
    "]\n",
    "df_reddit[\"prompt_id\"] = df_reddit[\"prompt\"].astype(\"category\").cat.codes\n",
    "\n",
    "# Sample n_samples_per_prompt samples for each prompt\n",
    "df_reddit = (\n",
    "    df_reddit.groupby(\"prompt_id\")\n",
    "    .apply(lambda x: x.sample(n_samples_per_prompt), include_groups=False)\n",
    "    .reset_index(drop=True)\n",
    ")\n",
    "\n",
    "# Break prompt into prompt and and prompt_tag\n",
    "df_reddit[\"prompt_tag\"] = (\n",
    "    df_reddit[\"prompt\"]\n",
    "    .str.split(\" \\]\", n=1)\n",
    "    .str[0]\n",
    "    .replace(\"\\[\", \"\", regex=True)\n",
    "    .str.strip()\n",
    ")\n",
    "df_reddit[\"prompt\"] = df_reddit[\"prompt\"].str.split(\" \\]\", n=1).str[1].str.strip()\n",
    "df_reddit[\"prompt\"] = \"Prompt\\n\" + df_reddit[\"prompt\"]\n",
    "df_reddit = df_reddit.sort_values(\"prompt\").reset_index(drop=True)\n",
    "df_reddit[\"prompt_id\"] = df_reddit[\"prompt\"].astype(\"category\").cat.codes"
   ]
  },
  {
   "cell_type": "code",
   "execution_count": 27,
   "metadata": {},
   "outputs": [],
   "source": [
    "df_reddit_prompts = (\n",
    "    df_reddit[[\"prompt_id\", \"prompt\", \"prompt_tag\"]]\n",
    "    .drop_duplicates()\n",
    "    .sort_values(\"prompt_id\")\n",
    "    .reset_index(drop=True)\n",
    ")\n",
    "\n",
    "\n",
    "def modify_prompt(prompt):\n",
    "    prompt = prompt.split(\"\\n\")[1]\n",
    "    return \"Write a response to the following creative writing prompt:\\n\" + prompt\n",
    "\n",
    "\n",
    "df_reddit_prompts[\"prompt\"] = df_reddit_prompts[\"prompt\"].apply(modify_prompt)\n",
    "\n",
    "df_reddit_prompts.to_csv(\"reddit/prompts.csv\", index=False)"
   ]
  },
  {
   "cell_type": "code",
   "execution_count": 28,
   "metadata": {},
   "outputs": [],
   "source": [
    "df_reddit = df_reddit[[\"prompt_id\", \"text\"]]\n",
    "df_reddit = df_reddit.sort_values(\"prompt_id\").reset_index(drop=True)\n",
    "df_reddit.to_csv(\"reddit/responses/human.csv\", index=False)"
   ]
  },
  {
   "cell_type": "markdown",
   "metadata": {},
   "source": [
    "```\n",
    "WP: Writing Prompt\n",
    "SP: Simple Prompt\n",
    "EU: Established Universe\n",
    "CW: Constrained Writing\n",
    "TT: Theme Thursday\n",
    "PM: Prompt Me\n",
    "MP: Media Prompt\n",
    "IP: Image Prompt\n",
    "PI: Prompt Inspired\n",
    "OT: Off Topic\n",
    "* OT as an Advertisement!\n",
    "RF: Reality Fiction\n",
    "```\n",
    "\n",
    "https://www.reddit.com/r/WritingPrompts/wiki/how_to_tag_prompts/"
   ]
  },
  {
   "cell_type": "code",
   "execution_count": 29,
   "metadata": {},
   "outputs": [
    {
     "data": {
      "text/html": [
       "<div>\n",
       "<style scoped>\n",
       "    .dataframe tbody tr th:only-of-type {\n",
       "        vertical-align: middle;\n",
       "    }\n",
       "\n",
       "    .dataframe tbody tr th {\n",
       "        vertical-align: top;\n",
       "    }\n",
       "\n",
       "    .dataframe thead th {\n",
       "        text-align: right;\n",
       "    }\n",
       "</style>\n",
       "<table border=\"1\" class=\"dataframe\">\n",
       "  <thead>\n",
       "    <tr style=\"text-align: right;\">\n",
       "      <th></th>\n",
       "      <th>prompt_id</th>\n",
       "      <th>prompt</th>\n",
       "      <th>prompt_tag</th>\n",
       "    </tr>\n",
       "  </thead>\n",
       "  <tbody>\n",
       "    <tr>\n",
       "      <th>0</th>\n",
       "      <td>0</td>\n",
       "      <td>Write a response to the following creative wri...</td>\n",
       "      <td>WP</td>\n",
       "    </tr>\n",
       "    <tr>\n",
       "      <th>1</th>\n",
       "      <td>1</td>\n",
       "      <td>Write a response to the following creative wri...</td>\n",
       "      <td>WP</td>\n",
       "    </tr>\n",
       "    <tr>\n",
       "      <th>2</th>\n",
       "      <td>2</td>\n",
       "      <td>Write a response to the following creative wri...</td>\n",
       "      <td>WP</td>\n",
       "    </tr>\n",
       "    <tr>\n",
       "      <th>3</th>\n",
       "      <td>3</td>\n",
       "      <td>Write a response to the following creative wri...</td>\n",
       "      <td>WP</td>\n",
       "    </tr>\n",
       "    <tr>\n",
       "      <th>4</th>\n",
       "      <td>4</td>\n",
       "      <td>Write a response to the following creative wri...</td>\n",
       "      <td>CW</td>\n",
       "    </tr>\n",
       "    <tr>\n",
       "      <th>5</th>\n",
       "      <td>5</td>\n",
       "      <td>Write a response to the following creative wri...</td>\n",
       "      <td>WP</td>\n",
       "    </tr>\n",
       "    <tr>\n",
       "      <th>6</th>\n",
       "      <td>6</td>\n",
       "      <td>Write a response to the following creative wri...</td>\n",
       "      <td>WP</td>\n",
       "    </tr>\n",
       "    <tr>\n",
       "      <th>7</th>\n",
       "      <td>7</td>\n",
       "      <td>Write a response to the following creative wri...</td>\n",
       "      <td>WP</td>\n",
       "    </tr>\n",
       "  </tbody>\n",
       "</table>\n",
       "</div>"
      ],
      "text/plain": [
       "   prompt_id                                             prompt prompt_tag\n",
       "0          0  Write a response to the following creative wri...         WP\n",
       "1          1  Write a response to the following creative wri...         WP\n",
       "2          2  Write a response to the following creative wri...         WP\n",
       "3          3  Write a response to the following creative wri...         WP\n",
       "4          4  Write a response to the following creative wri...         CW\n",
       "5          5  Write a response to the following creative wri...         WP\n",
       "6          6  Write a response to the following creative wri...         WP\n",
       "7          7  Write a response to the following creative wri...         WP"
      ]
     },
     "execution_count": 29,
     "metadata": {},
     "output_type": "execute_result"
    }
   ],
   "source": [
    "df_reddit_prompts"
   ]
  },
  {
   "cell_type": "code",
   "execution_count": 30,
   "metadata": {},
   "outputs": [
    {
     "data": {
      "text/html": [
       "<div>\n",
       "<style scoped>\n",
       "    .dataframe tbody tr th:only-of-type {\n",
       "        vertical-align: middle;\n",
       "    }\n",
       "\n",
       "    .dataframe tbody tr th {\n",
       "        vertical-align: top;\n",
       "    }\n",
       "\n",
       "    .dataframe thead th {\n",
       "        text-align: right;\n",
       "    }\n",
       "</style>\n",
       "<table border=\"1\" class=\"dataframe\">\n",
       "  <thead>\n",
       "    <tr style=\"text-align: right;\">\n",
       "      <th></th>\n",
       "      <th>prompt_id</th>\n",
       "      <th>text</th>\n",
       "    </tr>\n",
       "  </thead>\n",
       "  <tbody>\n",
       "    <tr>\n",
       "      <th>0</th>\n",
       "      <td>0</td>\n",
       "      <td>Doh'tlec reviewed his message . It did n't nee...</td>\n",
       "    </tr>\n",
       "    <tr>\n",
       "      <th>1</th>\n",
       "      <td>0</td>\n",
       "      <td>We spoke to them in images . It was the only w...</td>\n",
       "    </tr>\n",
       "    <tr>\n",
       "      <th>2</th>\n",
       "      <td>0</td>\n",
       "      <td>`` The Savage within… '' those three words see...</td>\n",
       "    </tr>\n",
       "    <tr>\n",
       "      <th>3</th>\n",
       "      <td>0</td>\n",
       "      <td>It was a last resort . &lt;newline&gt; &lt;newline&gt; &lt;ne...</td>\n",
       "    </tr>\n",
       "    <tr>\n",
       "      <th>4</th>\n",
       "      <td>0</td>\n",
       "      <td>You ’ ll give us your ships . We ’ ll win your...</td>\n",
       "    </tr>\n",
       "    <tr>\n",
       "      <th>...</th>\n",
       "      <td>...</td>\n",
       "      <td>...</td>\n",
       "    </tr>\n",
       "    <tr>\n",
       "      <th>795</th>\n",
       "      <td>7</td>\n",
       "      <td>In a sea of familiar faces just one pair of ey...</td>\n",
       "    </tr>\n",
       "    <tr>\n",
       "      <th>796</th>\n",
       "      <td>7</td>\n",
       "      <td>Fair warning : This is a genuinely crap post ,...</td>\n",
       "    </tr>\n",
       "    <tr>\n",
       "      <th>797</th>\n",
       "      <td>7</td>\n",
       "      <td>She was his first . And as far as he knew he w...</td>\n",
       "    </tr>\n",
       "    <tr>\n",
       "      <th>798</th>\n",
       "      <td>7</td>\n",
       "      <td>`` Ugh , I 'm gon na be sick . I think-I think...</td>\n",
       "    </tr>\n",
       "    <tr>\n",
       "      <th>799</th>\n",
       "      <td>7</td>\n",
       "      <td>She said she loved him , and he saw her with h...</td>\n",
       "    </tr>\n",
       "  </tbody>\n",
       "</table>\n",
       "<p>800 rows × 2 columns</p>\n",
       "</div>"
      ],
      "text/plain": [
       "     prompt_id                                               text\n",
       "0            0  Doh'tlec reviewed his message . It did n't nee...\n",
       "1            0  We spoke to them in images . It was the only w...\n",
       "2            0  `` The Savage within… '' those three words see...\n",
       "3            0  It was a last resort . <newline> <newline> <ne...\n",
       "4            0  You ’ ll give us your ships . We ’ ll win your...\n",
       "..         ...                                                ...\n",
       "795          7  In a sea of familiar faces just one pair of ey...\n",
       "796          7  Fair warning : This is a genuinely crap post ,...\n",
       "797          7  She was his first . And as far as he knew he w...\n",
       "798          7  `` Ugh , I 'm gon na be sick . I think-I think...\n",
       "799          7  She said she loved him , and he saw her with h...\n",
       "\n",
       "[800 rows x 2 columns]"
      ]
     },
     "execution_count": 30,
     "metadata": {},
     "output_type": "execute_result"
    }
   ],
   "source": [
    "df_reddit"
   ]
  },
  {
   "cell_type": "code",
   "execution_count": 31,
   "metadata": {},
   "outputs": [
    {
     "name": "stdout",
     "output_type": "stream",
     "text": [
      "Number of words in the responses:\n"
     ]
    },
    {
     "data": {
      "text/plain": [
       "count     800.00000\n",
       "mean      596.29875\n",
       "std       492.29019\n",
       "min       114.00000\n",
       "25%       263.75000\n",
       "50%       389.50000\n",
       "75%       794.25000\n",
       "max      2594.00000\n",
       "Name: text, dtype: float64"
      ]
     },
     "execution_count": 31,
     "metadata": {},
     "output_type": "execute_result"
    }
   ],
   "source": [
    "print(\"Number of words in the responses:\")\n",
    "df_reddit[\"text\"].apply(lambda x: len(x.split())).describe()"
   ]
  },
  {
   "cell_type": "markdown",
   "metadata": {},
   "source": [
    "## Hewlett\n",
    "\n",
    "https://www.kaggle.com/competitions/asap-aes/code"
   ]
  },
  {
   "cell_type": "code",
   "execution_count": 32,
   "metadata": {},
   "outputs": [],
   "source": [
    "import os\n",
    "\n",
    "hewlett_prompts_dir = \"hewlett/original_data/prompts\"\n",
    "\n",
    "prompts = []\n",
    "for file in os.listdir(hewlett_prompts_dir):\n",
    "    with open(hewlett_prompts_dir + \"/\" + file) as f:\n",
    "        prompt = f.read()\n",
    "    prompts.append((int(file.split(\".\")[0]) - 1, prompt))\n",
    "\n",
    "df_hewlett_prompts = pd.DataFrame(prompts, columns=[\"prompt_id\", \"prompt\"])\n",
    "df_hewlett_prompts[\"prompt_tag\"] = df_hewlett_prompts[\"prompt\"].str.contains(\n",
    "    \"Source Essay\"\n",
    ")\n",
    "df_hewlett_prompts[\"prompt_tag\"] = df_hewlett_prompts[\"prompt_tag\"].replace(\n",
    "    {True: \"source dependent responses\", False: \"persuasive / narrative / expository\"}\n",
    ")\n",
    "df_hewlett_prompts = df_hewlett_prompts.sort_values(\"prompt_id\").reset_index(drop=True)\n",
    "df_hewlett_prompts.to_csv(\"hewlett/prompts.csv\", index=False)"
   ]
  },
  {
   "cell_type": "code",
   "execution_count": 33,
   "metadata": {},
   "outputs": [],
   "source": [
    "hewlett_dir = \"hewlett/original_data\"\n",
    "\n",
    "filenames = [\n",
    "    \"training_set_rel3.tsv\",\n",
    "    \"valid_set.tsv\",\n",
    "    \"test_set.tsv\",\n",
    "]\n",
    "\n",
    "dfs = []\n",
    "for filename in filenames:\n",
    "    df = pd.read_csv(f\"{hewlett_dir}/{filename}\", sep=\"\\t\", encoding=\"ISO-8859-1\")\n",
    "    df = df[[\"essay_set\", \"essay\"]]\n",
    "    df.rename(columns={\"essay_set\": \"prompt_id\", \"essay\": \"text\"}, inplace=True)\n",
    "    df[\"prompt_id\"] = df[\"prompt_id\"].astype(int).apply(lambda x: x - 1)\n",
    "    dfs.append(df)\n",
    "\n",
    "# Don't need to remove the responses of any prompts because there are 8 distinct prompts in this dataset\n",
    "df_hewlett = pd.concat(dfs, ignore_index=True)\n",
    "\n",
    "df_hewlett = df_hewlett[df_hewlett[\"text\"] != \"\"]\n",
    "df_hewlett = df_hewlett.dropna()\n",
    "df_hewlett = df_hewlett.drop_duplicates()\n",
    "\n",
    "# Sample n_samples_per_prompt samples for each prompt\n",
    "df_hewlett = (\n",
    "    df_hewlett.groupby(\"prompt_id\")\n",
    "    .apply(lambda x: x.sample(n_samples_per_prompt), include_groups=False)\n",
    "    .reset_index(level=0, drop=False)\n",
    "    .reset_index(drop=True)\n",
    ")\n",
    "df_hewlett = df_hewlett[[\"prompt_id\", \"text\"]]\n",
    "\n",
    "df_hewlett.to_csv(\"hewlett/responses/human.csv\", index=False)"
   ]
  },
  {
   "cell_type": "code",
   "execution_count": 34,
   "metadata": {},
   "outputs": [
    {
     "data": {
      "text/html": [
       "<div>\n",
       "<style scoped>\n",
       "    .dataframe tbody tr th:only-of-type {\n",
       "        vertical-align: middle;\n",
       "    }\n",
       "\n",
       "    .dataframe tbody tr th {\n",
       "        vertical-align: top;\n",
       "    }\n",
       "\n",
       "    .dataframe thead th {\n",
       "        text-align: right;\n",
       "    }\n",
       "</style>\n",
       "<table border=\"1\" class=\"dataframe\">\n",
       "  <thead>\n",
       "    <tr style=\"text-align: right;\">\n",
       "      <th></th>\n",
       "      <th>prompt_id</th>\n",
       "      <th>prompt</th>\n",
       "      <th>prompt_tag</th>\n",
       "    </tr>\n",
       "  </thead>\n",
       "  <tbody>\n",
       "    <tr>\n",
       "      <th>0</th>\n",
       "      <td>0</td>\n",
       "      <td>Prompt\\nMore and more people use computers, bu...</td>\n",
       "      <td>persuasive / narrative / expository</td>\n",
       "    </tr>\n",
       "    <tr>\n",
       "      <th>1</th>\n",
       "      <td>1</td>\n",
       "      <td>Prompt\\nCensorship in the Libraries\\n\"All of u...</td>\n",
       "      <td>persuasive / narrative / expository</td>\n",
       "    </tr>\n",
       "    <tr>\n",
       "      <th>2</th>\n",
       "      <td>2</td>\n",
       "      <td>Source Essay\\nROUGH ROAD AHEAD: Do Not Exceed ...</td>\n",
       "      <td>source dependent responses</td>\n",
       "    </tr>\n",
       "    <tr>\n",
       "      <th>3</th>\n",
       "      <td>3</td>\n",
       "      <td>Source Essay\\nWinter Hibiscus by Minfong Ho\\nS...</td>\n",
       "      <td>source dependent responses</td>\n",
       "    </tr>\n",
       "    <tr>\n",
       "      <th>4</th>\n",
       "      <td>4</td>\n",
       "      <td>Source Essay\\nNarciso Rodriguez\\nfrom Home: Th...</td>\n",
       "      <td>source dependent responses</td>\n",
       "    </tr>\n",
       "    <tr>\n",
       "      <th>5</th>\n",
       "      <td>5</td>\n",
       "      <td>Source Essay\\nThe Mooring Mast\\nby Marcia Amid...</td>\n",
       "      <td>source dependent responses</td>\n",
       "    </tr>\n",
       "    <tr>\n",
       "      <th>6</th>\n",
       "      <td>6</td>\n",
       "      <td>Prompt\\nWrite about patience. Being patient me...</td>\n",
       "      <td>persuasive / narrative / expository</td>\n",
       "    </tr>\n",
       "    <tr>\n",
       "      <th>7</th>\n",
       "      <td>7</td>\n",
       "      <td>Prompt\\nWe all understand the benefits of laug...</td>\n",
       "      <td>persuasive / narrative / expository</td>\n",
       "    </tr>\n",
       "  </tbody>\n",
       "</table>\n",
       "</div>"
      ],
      "text/plain": [
       "   prompt_id                                             prompt  \\\n",
       "0          0  Prompt\\nMore and more people use computers, bu...   \n",
       "1          1  Prompt\\nCensorship in the Libraries\\n\"All of u...   \n",
       "2          2  Source Essay\\nROUGH ROAD AHEAD: Do Not Exceed ...   \n",
       "3          3  Source Essay\\nWinter Hibiscus by Minfong Ho\\nS...   \n",
       "4          4  Source Essay\\nNarciso Rodriguez\\nfrom Home: Th...   \n",
       "5          5  Source Essay\\nThe Mooring Mast\\nby Marcia Amid...   \n",
       "6          6  Prompt\\nWrite about patience. Being patient me...   \n",
       "7          7  Prompt\\nWe all understand the benefits of laug...   \n",
       "\n",
       "                            prompt_tag  \n",
       "0  persuasive / narrative / expository  \n",
       "1  persuasive / narrative / expository  \n",
       "2           source dependent responses  \n",
       "3           source dependent responses  \n",
       "4           source dependent responses  \n",
       "5           source dependent responses  \n",
       "6  persuasive / narrative / expository  \n",
       "7  persuasive / narrative / expository  "
      ]
     },
     "execution_count": 34,
     "metadata": {},
     "output_type": "execute_result"
    }
   ],
   "source": [
    "df_hewlett_prompts"
   ]
  },
  {
   "cell_type": "code",
   "execution_count": 35,
   "metadata": {},
   "outputs": [
    {
     "data": {
      "text/html": [
       "<div>\n",
       "<style scoped>\n",
       "    .dataframe tbody tr th:only-of-type {\n",
       "        vertical-align: middle;\n",
       "    }\n",
       "\n",
       "    .dataframe tbody tr th {\n",
       "        vertical-align: top;\n",
       "    }\n",
       "\n",
       "    .dataframe thead th {\n",
       "        text-align: right;\n",
       "    }\n",
       "</style>\n",
       "<table border=\"1\" class=\"dataframe\">\n",
       "  <thead>\n",
       "    <tr style=\"text-align: right;\">\n",
       "      <th></th>\n",
       "      <th>prompt_id</th>\n",
       "      <th>text</th>\n",
       "    </tr>\n",
       "  </thead>\n",
       "  <tbody>\n",
       "    <tr>\n",
       "      <th>0</th>\n",
       "      <td>0</td>\n",
       "      <td>Well, in my opinion I feel that computers have...</td>\n",
       "    </tr>\n",
       "    <tr>\n",
       "      <th>1</th>\n",
       "      <td>0</td>\n",
       "      <td>Dear, Local Newspaper @CAPS1 here to inform yo...</td>\n",
       "    </tr>\n",
       "    <tr>\n",
       "      <th>2</th>\n",
       "      <td>0</td>\n",
       "      <td>The effects computers have on people vary from...</td>\n",
       "    </tr>\n",
       "    <tr>\n",
       "      <th>3</th>\n",
       "      <td>0</td>\n",
       "      <td>Dear @CAPS1, I agreed with the people that fee...</td>\n",
       "    </tr>\n",
       "    <tr>\n",
       "      <th>4</th>\n",
       "      <td>0</td>\n",
       "      <td>Dear newspaper, Some people say that computers...</td>\n",
       "    </tr>\n",
       "    <tr>\n",
       "      <th>...</th>\n",
       "      <td>...</td>\n",
       "      <td>...</td>\n",
       "    </tr>\n",
       "    <tr>\n",
       "      <th>795</th>\n",
       "      <td>7</td>\n",
       "      <td>In the story i am going to tell you, it invol...</td>\n",
       "    </tr>\n",
       "    <tr>\n",
       "      <th>796</th>\n",
       "      <td>7</td>\n",
       "      <td>I met my best friend @PERSON2 when we were in...</td>\n",
       "    </tr>\n",
       "    <tr>\n",
       "      <th>797</th>\n",
       "      <td>7</td>\n",
       "      <td>Laughter is a common occurrence in my home. @...</td>\n",
       "    </tr>\n",
       "    <tr>\n",
       "      <th>798</th>\n",
       "      <td>7</td>\n",
       "      <td>Having laughter in your life is a big part in...</td>\n",
       "    </tr>\n",
       "    <tr>\n",
       "      <th>799</th>\n",
       "      <td>7</td>\n",
       "      <td>It's said that laughter is the best medicine....</td>\n",
       "    </tr>\n",
       "  </tbody>\n",
       "</table>\n",
       "<p>800 rows × 2 columns</p>\n",
       "</div>"
      ],
      "text/plain": [
       "     prompt_id                                               text\n",
       "0            0  Well, in my opinion I feel that computers have...\n",
       "1            0  Dear, Local Newspaper @CAPS1 here to inform yo...\n",
       "2            0  The effects computers have on people vary from...\n",
       "3            0  Dear @CAPS1, I agreed with the people that fee...\n",
       "4            0  Dear newspaper, Some people say that computers...\n",
       "..         ...                                                ...\n",
       "795          7   In the story i am going to tell you, it invol...\n",
       "796          7   I met my best friend @PERSON2 when we were in...\n",
       "797          7   Laughter is a common occurrence in my home. @...\n",
       "798          7   Having laughter in your life is a big part in...\n",
       "799          7   It's said that laughter is the best medicine....\n",
       "\n",
       "[800 rows x 2 columns]"
      ]
     },
     "execution_count": 35,
     "metadata": {},
     "output_type": "execute_result"
    }
   ],
   "source": [
    "df_hewlett"
   ]
  },
  {
   "cell_type": "markdown",
   "metadata": {},
   "source": [
    "# LLM response generation"
   ]
  },
  {
   "cell_type": "markdown",
   "metadata": {},
   "source": [
    "## Aggregate generation"
   ]
  },
  {
   "cell_type": "code",
   "execution_count": 36,
   "metadata": {},
   "outputs": [],
   "source": [
    "from tqdm import tqdm\n",
    "import pandas as pd\n",
    "import pickle\n",
    "\n",
    "\n",
    "def generate_responses(dataset_name, generate, model_name, temp=None):\n",
    "    output_filename = (\n",
    "        f\"{dataset_name}/responses/{model_name}.csv\"\n",
    "        if temp == None\n",
    "        else f\"{dataset_name}/responses/{model_name}_{temp}.csv\"\n",
    "    )\n",
    "    if os.path.exists(output_filename):\n",
    "        print(f\"{output_filename} already exists\")\n",
    "        return\n",
    "\n",
    "    prompts_df = pd.read_csv(f\"{dataset_name}/prompts.csv\")\n",
    "    prompt_ids = []\n",
    "    responses = []\n",
    "\n",
    "    progress_bar = tqdm(total=len(prompts_df) * n_samples_per_prompt)\n",
    "\n",
    "    for prompt, prompt_id in zip(prompts_df[\"prompt\"], prompts_df[\"prompt_id\"]):\n",
    "        for _ in range(n_samples_per_prompt):\n",
    "            prompt_ids.append(prompt_id)\n",
    "            if temp is not None:\n",
    "                responses.append(generate(model_name, prompt, temp))\n",
    "            else:\n",
    "                responses.append(generate(model_name, prompt))\n",
    "            progress_bar.update(1)\n",
    "\n",
    "    progress_bar.close()\n",
    "\n",
    "    df = pd.DataFrame({\"prompt_id\": prompt_ids, \"text\": responses})\n",
    "\n",
    "    try:\n",
    "        df.to_csv(output_filename, index=False, escapechar=\"~\")\n",
    "    except:\n",
    "        try:\n",
    "            df.to_json(output_filename + \".json\", orient=\"records\")\n",
    "        except:\n",
    "            with open(output_filename + \".pickle\", \"wb\") as f:\n",
    "                pickle.dump(df, f)"
   ]
  },
  {
   "cell_type": "markdown",
   "metadata": {},
   "source": [
    "## Gemini (1.0 and 1.5)"
   ]
  },
  {
   "cell_type": "code",
   "execution_count": 37,
   "metadata": {},
   "outputs": [],
   "source": [
    "GEMINI_10 = \"gemini-1.0-pro\"\n",
    "GEMINI_15 = \"gemini-1.5-pro-latest\""
   ]
  },
  {
   "cell_type": "code",
   "execution_count": 38,
   "metadata": {},
   "outputs": [],
   "source": [
    "import time\n",
    "import google.generativeai as genai\n",
    "from google.generativeai.types import HarmCategory, HarmBlockThreshold\n",
    "\n",
    "\n",
    "with open(\"API_KEY_GOOGLE.txt\", \"r\") as f:\n",
    "    API_KEY_GOOGLE = f.read()\n",
    "\n",
    "genai.configure(api_key=API_KEY_GOOGLE)\n",
    "\n",
    "\n",
    "def generate_gemini(model_name, prompt):\n",
    "    safety_settings = {\n",
    "        HarmCategory.HARM_CATEGORY_HARASSMENT: HarmBlockThreshold.BLOCK_NONE,\n",
    "        HarmCategory.HARM_CATEGORY_HATE_SPEECH: HarmBlockThreshold.BLOCK_NONE,\n",
    "        HarmCategory.HARM_CATEGORY_SEXUALLY_EXPLICIT: HarmBlockThreshold.BLOCK_NONE,\n",
    "        HarmCategory.HARM_CATEGORY_DANGEROUS_CONTENT: HarmBlockThreshold.BLOCK_NONE,\n",
    "    }\n",
    "\n",
    "    model = genai.GenerativeModel(\n",
    "        f\"models/{model_name}\", safety_settings=safety_settings\n",
    "    )\n",
    "\n",
    "    while True:\n",
    "        start = time.time()\n",
    "        response = model.generate_content(prompt)\n",
    "        # Gemini sometimes returns an empty response due to \"SAFETY\", so try again\n",
    "        if not response.parts:\n",
    "            print(response.candidates)\n",
    "            continue\n",
    "        # Gemini has a rate limit of 15 requests per minute for 1.0 and 2 requests per minute for 1.5\n",
    "        wait_time = 30 if \"1.5\" in model_name else 4\n",
    "        time.sleep(max(0, wait_time + 1 - (time.time() - start)))\n",
    "        return \" \".join([part.text for part in response.parts])"
   ]
  },
  {
   "cell_type": "code",
   "execution_count": 39,
   "metadata": {},
   "outputs": [
    {
     "name": "stdout",
     "output_type": "stream",
     "text": [
      "reddit/responses/gemini-1.0-pro.csv already exists\n",
      "reddit/responses/gemini-1.5-pro-latest.csv already exists\n",
      "hewlett/responses/gemini-1.0-pro.csv already exists\n",
      "hewlett/responses/gemini-1.5-pro-latest.csv already exists\n"
     ]
    }
   ],
   "source": [
    "for dataset in [\"reddit\", \"hewlett\"]:\n",
    "    for model in [GEMINI_10, GEMINI_15]:\n",
    "        generate_responses(dataset, generate_gemini, model)"
   ]
  },
  {
   "cell_type": "markdown",
   "metadata": {},
   "source": [
    "## GPT (3.5, 4.0, and 3.5 with temp = [0.0, 0.1,...,1.5])"
   ]
  },
  {
   "cell_type": "code",
   "execution_count": 40,
   "metadata": {},
   "outputs": [],
   "source": [
    "GPT_35 = \"gpt-3.5-turbo-0125\"\n",
    "GPT_40 = \"gpt-4-turbo-2024-04-09\""
   ]
  },
  {
   "cell_type": "code",
   "execution_count": 41,
   "metadata": {},
   "outputs": [],
   "source": [
    "from openai import OpenAI\n",
    "\n",
    "with open(\"API_KEY_OPENAI.txt\", \"r\") as f:\n",
    "    API_KEY_OPENAI = f.read()\n",
    "\n",
    "\n",
    "def generate_gpt(model_name, prompt, temp=None):\n",
    "    while True:\n",
    "        try:\n",
    "            client = OpenAI(api_key=API_KEY_OPENAI)\n",
    "\n",
    "            messages = [\n",
    "                {\"role\": \"system\", \"content\": \"You are a helpful assistant.\"},\n",
    "                {\"role\": \"user\", \"content\": prompt},\n",
    "            ]\n",
    "            response = None\n",
    "            if temp != None:\n",
    "                response = client.chat.completions.create(\n",
    "                    model=model_name,\n",
    "                    messages=messages,\n",
    "                    temperature=temp,\n",
    "                )\n",
    "            else:\n",
    "                response = client.chat.completions.create(\n",
    "                    model=model_name,\n",
    "                    messages=messages,\n",
    "                )\n",
    "            return response.choices[0].message.content\n",
    "        except Exception as e:\n",
    "            print(f\"Caught exception, trying again: {e}\")"
   ]
  },
  {
   "cell_type": "code",
   "execution_count": 42,
   "metadata": {},
   "outputs": [
    {
     "name": "stdout",
     "output_type": "stream",
     "text": [
      "reddit/responses/gpt-4-turbo-2024-04-09.csv already exists\n",
      "reddit/responses/gpt-3.5-turbo-0125.csv already exists\n",
      "reddit/responses/gpt-3.5-turbo-0125_0.0.csv already exists\n",
      "reddit/responses/gpt-3.5-turbo-0125_0.1.csv already exists\n",
      "reddit/responses/gpt-3.5-turbo-0125_0.2.csv already exists\n",
      "reddit/responses/gpt-3.5-turbo-0125_0.3.csv already exists\n",
      "reddit/responses/gpt-3.5-turbo-0125_0.4.csv already exists\n",
      "reddit/responses/gpt-3.5-turbo-0125_0.5.csv already exists\n",
      "reddit/responses/gpt-3.5-turbo-0125_0.6.csv already exists\n",
      "reddit/responses/gpt-3.5-turbo-0125_0.7.csv already exists\n",
      "reddit/responses/gpt-3.5-turbo-0125_0.8.csv already exists\n",
      "reddit/responses/gpt-3.5-turbo-0125_0.9.csv already exists\n",
      "reddit/responses/gpt-3.5-turbo-0125_1.0.csv already exists\n",
      "reddit/responses/gpt-3.5-turbo-0125_1.1.csv already exists\n",
      "reddit/responses/gpt-3.5-turbo-0125_1.2.csv already exists\n",
      "reddit/responses/gpt-3.5-turbo-0125_1.3.csv already exists\n",
      "reddit/responses/gpt-3.5-turbo-0125_1.4.csv already exists\n",
      "reddit/responses/gpt-3.5-turbo-0125_1.5.csv already exists\n",
      "hewlett/responses/gpt-4-turbo-2024-04-09.csv already exists\n",
      "hewlett/responses/gpt-3.5-turbo-0125.csv already exists\n",
      "hewlett/responses/gpt-3.5-turbo-0125_0.0.csv already exists\n",
      "hewlett/responses/gpt-3.5-turbo-0125_0.1.csv already exists\n",
      "hewlett/responses/gpt-3.5-turbo-0125_0.2.csv already exists\n",
      "hewlett/responses/gpt-3.5-turbo-0125_0.3.csv already exists\n",
      "hewlett/responses/gpt-3.5-turbo-0125_0.4.csv already exists\n",
      "hewlett/responses/gpt-3.5-turbo-0125_0.5.csv already exists\n",
      "hewlett/responses/gpt-3.5-turbo-0125_0.6.csv already exists\n",
      "hewlett/responses/gpt-3.5-turbo-0125_0.7.csv already exists\n",
      "hewlett/responses/gpt-3.5-turbo-0125_0.8.csv already exists\n",
      "hewlett/responses/gpt-3.5-turbo-0125_0.9.csv already exists\n",
      "hewlett/responses/gpt-3.5-turbo-0125_1.0.csv already exists\n",
      "hewlett/responses/gpt-3.5-turbo-0125_1.1.csv already exists\n",
      "hewlett/responses/gpt-3.5-turbo-0125_1.2.csv already exists\n",
      "hewlett/responses/gpt-3.5-turbo-0125_1.3.csv already exists\n",
      "hewlett/responses/gpt-3.5-turbo-0125_1.4.csv already exists\n",
      "hewlett/responses/gpt-3.5-turbo-0125_1.5.csv already exists\n"
     ]
    }
   ],
   "source": [
    "for dataset in [\"reddit\", \"hewlett\"]:\n",
    "    generate_responses(dataset, generate_gpt, GPT_40)\n",
    "    generate_responses(dataset, generate_gpt, GPT_35)\n",
    "    for temp in [i / 10 for i in range(16)]:\n",
    "        generate_responses(dataset, generate_gpt, GPT_35, temp)"
   ]
  },
  {
   "cell_type": "markdown",
   "metadata": {},
   "source": [
    "Happens sometimes when tempt >= 1.4:\n",
    "\n",
    "```\n",
    "openai.InternalServerError: Error code: 500 - {'error': {'message': 'Failed to create completion as the model generated invalid Unicode output. Unfortunately, this can happen in rare situations. Consider reviewing your prompt or reducing the temperature of your request. You can retry your request, or contact us through our help center at help.openai.com if the error persists. (Please include the request ID req_58f0042493a451bb309b48e5330706ea in your message.)', 'type': 'server_error', 'param': None, 'code': 'invalid_model_output'}}\n",
    "```"
   ]
  },
  {
   "cell_type": "markdown",
   "metadata": {},
   "source": [
    "## Claude (Sonnet and Opus)"
   ]
  },
  {
   "cell_type": "code",
   "execution_count": 43,
   "metadata": {},
   "outputs": [],
   "source": [
    "CLAUDE_SONNET = \"claude-3-sonnet-20240229\"\n",
    "CLAUDE_OPUS = \"claude-3-opus-20240229\""
   ]
  },
  {
   "cell_type": "code",
   "execution_count": 44,
   "metadata": {},
   "outputs": [],
   "source": [
    "import anthropic\n",
    "\n",
    "with open(\"API_KEY_ANTHROPIC.txt\", \"r\") as f:\n",
    "    API_KEY_ANTHROPIC = f.read()\n",
    "\n",
    "\n",
    "def generate_claude(model_name, prompt):\n",
    "    client = anthropic.Anthropic(api_key=API_KEY_ANTHROPIC)\n",
    "\n",
    "    message = client.messages.create(\n",
    "        model=model_name,\n",
    "        max_tokens=4096,\n",
    "        messages=[{\"role\": \"user\", \"content\": prompt}],\n",
    "    )\n",
    "\n",
    "    return message.content[0].text"
   ]
  },
  {
   "cell_type": "code",
   "execution_count": 45,
   "metadata": {},
   "outputs": [
    {
     "name": "stdout",
     "output_type": "stream",
     "text": [
      "reddit/responses/claude-3-sonnet-20240229.csv already exists\n",
      "reddit/responses/claude-3-opus-20240229.csv already exists\n",
      "hewlett/responses/claude-3-sonnet-20240229.csv already exists\n",
      "hewlett/responses/claude-3-opus-20240229.csv already exists\n"
     ]
    }
   ],
   "source": [
    "generate_responses(\"reddit\", generate_claude, CLAUDE_SONNET)\n",
    "generate_responses(\"reddit\", generate_claude, CLAUDE_OPUS)\n",
    "\n",
    "generate_responses(\"hewlett\", generate_claude, CLAUDE_SONNET)\n",
    "generate_responses(\"hewlett\", generate_claude, CLAUDE_OPUS)"
   ]
  },
  {
   "cell_type": "markdown",
   "metadata": {},
   "source": [
    "## Response lengths"
   ]
  },
  {
   "cell_type": "code",
   "execution_count": 46,
   "metadata": {},
   "outputs": [
    {
     "data": {
      "image/png": "[encoded data removed]",
      "text/plain": [
       "<Figure size 800x600 with 1 Axes>"
      ]
     },
     "metadata": {},
     "output_type": "display_data"
    }
   ],
   "source": [
    "import matplotlib.pyplot as plt\n",
    "import seaborn as sns\n",
    "\n",
    "\n",
    "HUMAN = \"human\"\n",
    "GEMINI_10 = \"gemini-1.0-pro\"\n",
    "GEMINI_15 = \"gemini-1.5-pro-latest\"\n",
    "CLAUDE_SONNET = \"claude-3-sonnet-20240229\"\n",
    "CLAUDE_OPUS = \"claude-3-opus-20240229\"\n",
    "GPT_35 = \"gpt-3.5-turbo-0125\"\n",
    "GPT_40 = \"gpt-4-turbo-2024-04-09\"\n",
    "\n",
    "\n",
    "authors = [HUMAN, GEMINI_10, GEMINI_15, CLAUDE_SONNET, CLAUDE_OPUS, GPT_35, GPT_40]\n",
    "\n",
    "df_word_counts = []\n",
    "for dataset in [\"reddit\", \"hewlett\"]:\n",
    "    for author in authors:\n",
    "        df = pd.read_csv(f\"{dataset}/responses/{author}.csv\")\n",
    "        df[\"word_count\"] = df[\"text\"].apply(lambda x: len(x.split()))\n",
    "        df[\"dataset\"] = dataset\n",
    "        df[\"author\"] = author\n",
    "        df_word_counts.append(df)\n",
    "\n",
    "df_word_counts = pd.concat(df_word_counts, ignore_index=True)\n",
    "\n",
    "plt.figure(figsize=(8, 6))\n",
    "sns.boxplot(x=\"dataset\", y=\"word_count\", hue=\"author\", data=df_word_counts)\n",
    "plt.xticks(rotation=45)\n",
    "plt.show()"
   ]
  }
 ],
 "metadata": {
  "kernelspec": {
   "display_name": ".venv",
   "language": "python",
   "name": "python3"
  },
  "language_info": {
   "codemirror_mode": {
    "name": "ipython",
    "version": 3
   },
   "file_extension": ".py",
   "mimetype": "text/x-python",
   "name": "python",
   "nbconvert_exporter": "python",
   "pygments_lexer": "ipython3",
   "version": "3.10.12"
  }
 },
 "nbformat": 4,
 "nbformat_minor": 2
}
